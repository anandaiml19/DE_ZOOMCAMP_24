{
  "nbformat": 4,
  "nbformat_minor": 0,
  "metadata": {
    "colab": {
      "provenance": []
    },
    "kernelspec": {
      "name": "python3",
      "display_name": "Python 3"
    },
    "language_info": {
      "name": "python"
    }
  },
  "cells": [
    {
      "cell_type": "markdown",
      "source": [
        "1.  What is count of records for the 2022 Green Taxi Data?\n",
        "    SELECT COUNT(*)\n",
        "    FROM axial-device-412013.hw_newdata.gtt_materialized_table\n",
        "\n",
        "    Ans: 840402\n",
        "\n",
        "\n",
        "2. What is the estimated amount of data in the tables?\n",
        "\n",
        "  SELECT COUNT(DISTINCT PULocationID)\n",
        "  FROM axial-device-412013.hw_newdata.gtt_materialized_table\n",
        "\n",
        "\n",
        "  Ans: 0 MB for the External Table and 6.41MB for the Materialized Table\n",
        "\n",
        "\n",
        "3. How many records have a fare_amount of 0?\n",
        "\n",
        "  SELECT COUNT(*)\n",
        "  from axial-device-412013.hw_newdata.gtt_materialized_table\n",
        "  WHERE Fare_amount=0;\n",
        "\n",
        "  Ans:1622\n",
        "\n",
        "4.What is the best strategy to make an optimized table in Big Query?\n",
        "\n",
        "  CREATE OR REPLACE TABLE `axial-device-412013.hw_newdata.gtt_partitioned_tripdata`\n",
        "  PARTITION BY DATE(lpep_pickup_datetime)\n",
        "  CLUSTER BY PUlocationID AS (\n",
        "  SELECT * FROM axial-device-412013.hw_newdata.gtt_materialized_table\n",
        "  );\n",
        "\n",
        "  Ans: Partition by lpep_pickup_datetime Cluster on PUlocationID\n",
        "\n",
        "\n",
        "5.  What's the size of the tables?\n",
        "\n",
        "  SELECT COUNT(DISTINCT PULocationID)\n",
        "  FROM axial-device-412013.hw_newdata.gtt_materialized_table\n",
        "  WHERE DATE(lpep_pickup_datetime) BETWEEN '2022-06-01' AND '2022-06-30';\n",
        "\n",
        "  SELECT COUNT(DISTINCT PULocationID)\n",
        "  FROM axial-device-412013.hw_newdata.gtt_partitioned_tripdata\n",
        "  WHERE DATE(lpep_pickup_datetime) BETWEEN '2022-06-01' AND '2022-06-30';\n",
        "\n",
        "\n",
        "  Ans: 12.82 MB for non-partitioned table and 1.12 MB for the partitioned table\n",
        "\n",
        "6. Where is the data stored in the External Table you created?\n",
        "\n",
        "\n",
        "  Ans: GCP Bucket\n",
        "\n",
        "7. It is best practice in Big Query to always cluster your data\n",
        "\n",
        "   Ans: False\n",
        "\n",
        "\n",
        "\n"
      ],
      "metadata": {
        "id": "Ts9YaWRA_qbf"
      }
    }
  ]
}