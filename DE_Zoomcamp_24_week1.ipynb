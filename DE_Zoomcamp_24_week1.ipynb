{
  "nbformat": 4,
  "nbformat_minor": 0,
  "metadata": {
    "colab": {
      "provenance": []
    },
    "kernelspec": {
      "name": "python3",
      "display_name": "Python 3"
    },
    "language_info": {
      "name": "python"
    }
  },
  "cells": [
    {
      "cell_type": "markdown",
      "source": [
        "Question 1. Knowing docker tags\n",
        "\n",
        "Which tag has the following text? - Automatically remove the container when it exits\n",
        "\n",
        "--rm\n",
        "\n",
        "\n",
        "Question 2. Understanding docker first run\n",
        "\n",
        "wheel      0.42.0\n",
        "\n",
        "\n",
        "Question 3. Count records\n",
        "\n",
        "SELECT COUNT(*) FROM public.green_taxi_trips\n",
        "WHERE date(lpep_pickup_datetime)='2019-09-18'\n",
        "and date(lpep_dropoff_datetime)='2019-09-18';\n",
        "\n",
        "count :\n",
        "15612\n",
        "\n",
        "Question 4. Largest trip for each day\n",
        "\n",
        "SELECT date(lpep_pickup_datetime),MAX(trip_distance) as M FROM public.green_taxi_trips\n",
        "GROUP BY date(lpep_pickup_datetime)\n",
        "ORDER BY M DESC;\n",
        "\n",
        "\"2019-09-26\"\t341.64\n",
        "\n",
        "Question 5. Three biggest pick up Boroughs\n",
        "\"Brooklyn\" \"Manhattan\" \"Queens\"\n",
        "\n",
        "Question 6. Largest tip\n",
        "SELECT l2.\"Zone\",max(tip_amount) as Maximum_tip\n",
        "FROM green_taxi_trips\n",
        "inner join lookups l1\n",
        "on green_taxi_trips.\"PULocationID\"=l1.\"LocationID\"\n",
        "inner join lookups l2\n",
        "on green_taxi_trips.\"DOLocationID\"=l2.\"LocationID\"\n",
        "WHERE l1.\"Zone\"='Astoria'\n",
        "and EXTRACT(MONTH FROM lpep_pickup_datetime)='9'\n",
        "and EXTRACT(YEAR FROM lpep_pickup_datetime)='2019'\n",
        "GROUP BY l2.\"Zone\"\n",
        "ORDER BY Maximum_tip desc\n",
        "limit 1;\n",
        "\n",
        "\n",
        "Answer : \"JFK Airport\"\t62.31\n",
        "\n",
        "Question 7. Creating Resources\n",
        "\n",
        "terraform apply\n",
        "\n",
        "Do you want to perform these actions?\n",
        "  Terraform will perform the actions described above.\n",
        "  Only 'yes' will be accepted to approve.\n",
        "\n",
        "  Enter a value: yes\n",
        "\n",
        "module.node_pool.random_id.entropy: Creating...\n",
        "module.node_pool.random_id.entropy: Creation complete after 0s [id=dcY]\n",
        "module.network.google_compute_network.network: Creating..."
      ],
      "metadata": {
        "id": "VqlU29HYxAR3"
      }
    }
  ]
}