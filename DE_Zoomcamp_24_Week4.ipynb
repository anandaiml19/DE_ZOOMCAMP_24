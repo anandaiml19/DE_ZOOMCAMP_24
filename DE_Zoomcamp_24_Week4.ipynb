{
  "nbformat": 4,
  "nbformat_minor": 0,
  "metadata": {
    "colab": {
      "provenance": []
    },
    "kernelspec": {
      "name": "python3",
      "display_name": "Python 3"
    },
    "language_info": {
      "name": "python"
    }
  },
  "cells": [
    {
      "cell_type": "markdown",
      "source": [
        "Data Engineering Zoomcamp -Week 4- Anaytical engineering -Homework Solutions"
      ],
      "metadata": {
        "id": "9kFa5n5W3zny"
      }
    },
    {
      "cell_type": "markdown",
      "source": [
        "Question 1:\n",
        "What happens when we execute dbt build --vars '{'is_test_run':'true'}' You'll need to have completed the \"Build the first dbt models\" video.\n",
        "\n",
        "It's the same as running dbt build\n",
        "It applies a limit 100 to all of our models\n",
        "It applies a limit 100 only to our staging models\n",
        "Nothing\n",
        "\n",
        "\n",
        "Ans: It applies a limit 100 to all of our models\n",
        "\n",
        "\n",
        "Question 2:\n",
        "What is the code that our CI job will run? Where is this code coming from?\n",
        "\n",
        "The code that has been merged into the main branch\n",
        "The code that is behind the creation object on the dbt_cloud_pr_ schema\n",
        "The code from any development branch that has been opened based on main\n",
        "The code from the development branch we are requesting to merge to main\n",
        "\n",
        "\n",
        "The code that is behind the creation object on the dbt_cloud_pr_ schema\n",
        "\n",
        "\n",
        "Question 3 (2 points)\n",
        "What is the count of records in the model fact_fhv_trips after running all dependencies with the test run variable disabled (:false)?\n",
        "Create a staging model for the fhv data, similar to the ones made for yellow and green data. Add an additional filter for keeping only records with pickup time in year 2019. Do not add a deduplication step. Run this models without limits (is_test_run: false).\n",
        "\n",
        "Create a core model similar to fact trips, but selecting from stg_fhv_tripdata and joining with dim_zones. Similar to what we've done in fact_trips, keep only records with known pickup and dropoff locations entries for pickup and dropoff locations. Run the dbt model without limits (is_test_run: false).\n",
        "\n",
        "12998722\n",
        "22998722\n",
        "32998722\n",
        "42998722\n",
        "\n",
        "SELECT count(*) FROM `axial-device-412013.fhv_2019.final_fhvdata`\n",
        "\n",
        "42998722\n",
        "\n",
        "What is the service that had the most rides during the month of July 2019 month with the biggest amount of rides after building a tile for the fact_fhv_trips table?\n",
        "\n",
        "Create a dashboard with some tiles that you find interesting to explore the data. One tile should show the amount of trips per month, as done in the videos for fact_trips, including the fact_fhv_trips data.\n",
        "\n",
        "FHV\n",
        "Green\n",
        "Yellow\n",
        "FHV and Green\n",
        "\n",
        "Yellow\n",
        "\n",
        "\n",
        "\n",
        "\n"
      ],
      "metadata": {
        "id": "NCf42RbE3xkh"
      }
    }
  ]
}