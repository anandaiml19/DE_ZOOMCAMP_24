{
  "nbformat": 4,
  "nbformat_minor": 0,
  "metadata": {
    "colab": {
      "provenance": []
    },
    "kernelspec": {
      "name": "python3",
      "display_name": "Python 3"
    },
    "language_info": {
      "name": "python"
    }
  },
  "cells": [
    {
      "cell_type": "markdown",
      "source": [
        "Question 1\n",
        "Create a materialized view to compute the average, min and max trip time between each taxi zone.\n",
        "\n",
        "From this MV, find the pair of taxi zones with the highest average trip time. You may need to use the dynamic filter pattern for this.\n",
        "\n",
        "Bonus (no marks): Create an MV which can identify anomalies in the data. For example, if the average trip time between two zones is 1 minute, but the max trip time is 10 minutes and 20 minutes respectively.\n",
        "\n",
        "Options:\n",
        "\n",
        "Yorkville East, Steinway\n",
        "Murray Hill, Midwood\n",
        "East Flatbush/Farragut, East Harlem North\n",
        "Midtown Center, University Heights/Morris Heights\n",
        "\n",
        "Answer: Murray Hill, Midwood\n",
        "\n",
        "Question 2\n",
        "Recreate the MV(s) in question 1, to also find the number of trips for the pair of taxi zones with the highest average trip time.\n",
        "\n",
        "Options:\n",
        "\n",
        "5\n",
        "3\n",
        "10\n",
        "1\n",
        "\n",
        "Answer: 10\n",
        "\n",
        "\n",
        "Question 3\n",
        "From the latest pickup time to 17 hours before, what are the top 3 busiest zones in terms of number of pickups? For example if the latest pickup time is 2020-01-01 12:00:00, then the query should return the top 3 busiest zones from 2020-01-01 11:00:00 to 2020-01-01 12:00:00.\n",
        "\n",
        "HINT: You can use dynamic filter pattern to create a filter condition based on the latest pickup time.\n",
        "\n",
        "NOTE: For this question 17 hours was picked to ensure we have enough data to work with.\n",
        "\n",
        "Options:\n",
        "\n",
        "Clinton East, Upper East Side North, Penn Station\n",
        "LaGuardia Airport, Lincoln Square East, JFK Airport\n",
        "Midtown Center, Upper East Side South, Upper East Side North\n",
        "LaGuardia Airport, Midtown Center, Upper East Side North\n",
        "\n",
        "Ans:LaGuardia Airport, Lincoln Square East, JFK Airport"
      ],
      "metadata": {
        "id": "rucEqLD_p6uJ"
      }
    }
  ]
}